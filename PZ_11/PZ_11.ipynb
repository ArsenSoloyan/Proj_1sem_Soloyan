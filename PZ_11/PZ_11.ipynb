{
  "nbformat": 4,
  "nbformat_minor": 0,
  "metadata": {
    "colab": {
      "name": "PZ_11.ipynb",
      "provenance": [],
      "collapsed_sections": [],
      "authorship_tag": "ABX9TyMWUTTI76Nz7HGGWN2lUscl",
      "include_colab_link": true
    },
    "kernelspec": {
      "name": "python3",
      "display_name": "Python 3"
    },
    "language_info": {
      "name": "python"
    }
  },
  "cells": [
    {
      "cell_type": "markdown",
      "metadata": {
        "id": "view-in-github",
        "colab_type": "text"
      },
      "source": [
        "<a href=\"https://colab.research.google.com/github/ArsenSoloyan/Proj_1sem_Soloyan/blob/master/PZ_11.ipynb\" target=\"_parent\"><img src=\"https://colab.research.google.com/assets/colab-badge.svg\" alt=\"Open In Colab\"/></a>"
      ]
    },
    {
      "cell_type": "markdown",
      "source": [
        "Практическая №3. Задача 1"
      ],
      "metadata": {
        "id": "Cx0W6p6Kf928"
      }
    },
    {
      "cell_type": "code",
      "source": [
        "# Дано трехзначное число. Проверить истинность высказывания: «Все цифры данного\n",
        "# числа различны»\n",
        "try:       #обработка исключений\n",
        "    N = int(input(\"Введите трехзначное число: \"))\n",
        "\n",
        "    if 99 < N < 999: #исключаем возможность введения не трехзначного числа\n",
        "        print(\"Число: \", N)\n",
        "        d2 = int(N/100)\n",
        "        d1 = int((N-d2*100)/10)\n",
        "        d0 = N%10\n",
        "        print(d2) #единицы\n",
        "        print(d1) #десятки\n",
        "        print(d0) #сотни\n",
        "        ab = (d2 != d1)\n",
        "        bc = (d1 != d0)\n",
        "        ac = (d2 != d0)\n",
        "        x = ab and bc and ac\n",
        "        print(\"Все цифры данного числа различны:\", x)\n",
        "    else:\n",
        "        print(\"Введено не трехзначное число!\")\n",
        "except ValueError:\n",
        "    print(\"Введено неверное значение!\")"
      ],
      "metadata": {
        "colab": {
          "base_uri": "https://localhost:8080/"
        },
        "id": "uOSRe_NOgBqL",
        "outputId": "4f4469a1-6b26-45db-c643-8979c1d55905"
      },
      "execution_count": null,
      "outputs": [
        {
          "output_type": "stream",
          "name": "stdout",
          "text": [
            "Введите трехзначное число: 123\n",
            "Число:  123\n",
            "1\n",
            "2\n",
            "3\n",
            "Все цифры данного числа различны: True\n"
          ]
        }
      ]
    },
    {
      "cell_type": "markdown",
      "source": [
        "Практическая №4. Задача 1"
      ],
      "metadata": {
        "id": "bEYzJgFRdrR2"
      }
    },
    {
      "cell_type": "code",
      "source": [
        "#Дано вещественное число X (|X|<1) и целое число N (>0). Найти значение\n",
        "# выражения X - X2/2 + X3/3 - ... + (-1)N-1XN/N. Полученное число является\n",
        "# приближенным значением функции ln в точке 1 + X.\n",
        "\n",
        "import math\n",
        "\n",
        "x = input(\"Введите число x: \")\n",
        "while type(x) != float:                  # обработка исключений\n",
        "    try:\n",
        "        x = float(x)\n",
        "    except ValueError:\n",
        "        print(\"Введите снова!\")\n",
        "        x = input(\"Введите вещественное число: \")\n",
        "while abs(x) >= 1:                      # обработка исключений\n",
        "    x = input(\"Введите число меньше единицы по модулю: \")\n",
        "    while type(x) != float:\n",
        "        try:\n",
        "            x = float(x)\n",
        "        except ValueError:\n",
        "            print(\"Введите снова!\")\n",
        "            x = input(\"Введите вещественное число: \")\n",
        "\n",
        "n = input(\"Введите целое число n: \")\n",
        "while type(n) != int:                  # обработка исключений\n",
        "    try:\n",
        "        n = int(n)\n",
        "    except ValueError:\n",
        "        print(\"Введите снова!\")\n",
        "        n = input(\"Введите целое число: \")\n",
        "while n <= 0:                          # обработка исключений\n",
        "    n = input(\"Введите положительное число: \")\n",
        "while type(n) != int:\n",
        "    try:\n",
        "            n = int(n)\n",
        "    except ValueError:\n",
        "            print(\"Введите снова!\")\n",
        "            n = input(\"Введите целое число: \")\n",
        "num1 = 1\n",
        "res = 0\n",
        "while num1 < int(n):\n",
        "    num2 = (-1) ** (num1 - 1)\n",
        "    num3 = abs(x) ** num1 / num1\n",
        "    num4 = num2 * num3\n",
        "    res += num4\n",
        "    num1 += 1\n",
        "print(\"Значение выражения равно: \", res)\n",
        "print(\"Приближенное значение функции ln в точке (1+x) равно: \", math.log(1 + abs(x)))"
      ],
      "metadata": {
        "colab": {
          "base_uri": "https://localhost:8080/"
        },
        "id": "-tU6yTKndvYG",
        "outputId": "8bfb7aae-68b9-4cc3-a721-2bf478500be2"
      },
      "execution_count": null,
      "outputs": [
        {
          "output_type": "stream",
          "name": "stdout",
          "text": [
            "Введите число x: 2\n",
            "Введите число меньше единицы по модулю: 0.5\n",
            "Введите целое число n: 3\n",
            "Значение выражения равно:  0.375\n",
            "Приближенное значение функции ln в точке (1+x) равно:  0.4054651081081644\n"
          ]
        }
      ]
    },
    {
      "cell_type": "markdown",
      "source": [
        "Практическая №5. Задача 1"
      ],
      "metadata": {
        "id": "sR4yapquaTdB"
      }
    },
    {
      "cell_type": "code",
      "execution_count": null,
      "metadata": {
        "colab": {
          "base_uri": "https://localhost:8080/"
        },
        "id": "yI9was8daKhw",
        "outputId": "85800fa0-00a0-45da-cb69-66b30a34408c"
      },
      "outputs": [
        {
          "output_type": "stream",
          "name": "stdout",
          "text": [
            "Введите количество членов числового ряда: 3\n",
            "Сумма членов числового ряда: ( 1 2 3 ) = 6 "
          ]
        }
      ],
      "source": [
        "# Составить функцию, которая выполнит суммирования числового ряда (1 + 2 + ... + N).\n",
        "# функция, находящая сумму числового ряда\n",
        "def summa(n):                                                 \n",
        "    sum1 = 0\n",
        "    res = 0\n",
        "    print(\"Сумма членов числового ряда:\", \"( \", end=\"\")\n",
        "    while sum1 < n:\n",
        "        sum1 += 1\n",
        "        res += sum1\n",
        "        print(sum1, end=\" \")\n",
        "    print(\")\", \"=\", res, end=\" \")\n",
        "N = (input(\"Введите количество членов числового ряда: \"))\n",
        "while type(N) != int:                   # обработка исключений\n",
        "    try:\n",
        "        N = int(N)\n",
        "    except ValueError:\n",
        "        N = input(\"Введите целое положительное число: \")\n",
        "summa(N)"
      ]
    }
  ]
}